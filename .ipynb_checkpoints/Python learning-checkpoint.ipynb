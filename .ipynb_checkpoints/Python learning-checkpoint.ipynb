{
 "cells": [
  {
   "cell_type": "code",
   "execution_count": 1,
   "id": "59c07acd-51a4-447e-9e9e-2625d500baae",
   "metadata": {},
   "outputs": [
    {
     "name": "stdout",
     "output_type": "stream",
     "text": [
      "Python is awesome for machine learning\n"
     ]
    }
   ],
   "source": [
    "# Print Statement \n",
    "print (\"Python is awesome for machine learning\")"
   ]
  },
  {
   "cell_type": "code",
   "execution_count": 4,
   "id": "b22956eb-7d2a-438b-ad48-6d3e07908d17",
   "metadata": {},
   "outputs": [
    {
     "name": "stdout",
     "output_type": "stream",
     "text": [
      "15\n",
      "Nitin\n"
     ]
    }
   ],
   "source": [
    "# Creating variables \n",
    "x = 15 \n",
    "y = \"Nitin\"\n",
    "print (x)\n",
    "print (y)"
   ]
  },
  {
   "cell_type": "code",
   "execution_count": 6,
   "id": "c16ad2f0-2805-4bb5-aaad-9967ac73ba65",
   "metadata": {},
   "outputs": [
    {
     "name": "stdout",
     "output_type": "stream",
     "text": [
      "Nitin is 15 years old.\n"
     ]
    }
   ],
   "source": [
    "# printing with string method and f is passing the variable.\n",
    "x = 15 \n",
    "y = \"Nitin\"\n",
    "print (f\"{y} is {x} years old.\")\n"
   ]
  },
  {
   "cell_type": "code",
   "execution_count": 7,
   "id": "45bb63cb-b794-4994-a5b4-d21ef91ba80b",
   "metadata": {},
   "outputs": [
    {
     "name": "stdout",
     "output_type": "stream",
     "text": [
      "Nitin is 15 years old.\n"
     ]
    }
   ],
   "source": [
    "# Using String format method\n",
    "print (\"{} is {} years old.\" .format(y,x)) "
   ]
  },
  {
   "cell_type": "code",
   "execution_count": 8,
   "id": "b327cb6f-333f-430c-bd5e-9b0bfb1dd8e3",
   "metadata": {},
   "outputs": [
    {
     "name": "stdout",
     "output_type": "stream",
     "text": [
      "Nitinis15years old\n"
     ]
    }
   ],
   "source": [
    "# Concatenation method.\n",
    "print (y + \"is\" + str(x) + \"years old\")"
   ]
  },
  {
   "cell_type": "code",
   "execution_count": 10,
   "id": "dc387556-123a-406d-8b8c-63a812c8383f",
   "metadata": {},
   "outputs": [
    {
     "name": "stdout",
     "output_type": "stream",
     "text": [
      "Nitin is 15 years old.\n"
     ]
    }
   ],
   "source": [
    "# Using % string formatting method\n",
    "print (\"%s is %d years old.\" %(y,x))"
   ]
  },
  {
   "cell_type": "markdown",
   "id": "4e41b602-6edb-44c5-b4f8-528f5d43b36f",
   "metadata": {},
   "source": [
    "#Data Types \n",
    "-Numbers"
   ]
  },
  {
   "cell_type": "code",
   "execution_count": 1,
   "id": "f338fdbf-450a-4805-9fe6-c1d604fe3870",
   "metadata": {},
   "outputs": [
    {
     "name": "stdout",
     "output_type": "stream",
     "text": [
      "Single Quoted String: Python is awesome.\n"
     ]
    }
   ],
   "source": [
    "# working with single quoted string\n",
    "single_quoted_string ='Python is awesome.'\n",
    "print (\"Single Quoted String:\" , single_quoted_string)"
   ]
  },
  {
   "cell_type": "code",
   "execution_count": 2,
   "id": "53b90baa-8c09-4c93-bd5e-b7b700937d88",
   "metadata": {},
   "outputs": [
    {
     "name": "stdout",
     "output_type": "stream",
     "text": [
      "Double Quoted String: Python is awesome.\n"
     ]
    }
   ],
   "source": [
    "# working with double quoted string\n",
    "double_quoted_string =\"Python is awesome.\"\n",
    "print (\"Double Quoted String:\" , double_quoted_string)"
   ]
  },
  {
   "cell_type": "code",
   "execution_count": 5,
   "id": "277c1f18-1917-4ed4-9617-04a963283b12",
   "metadata": {},
   "outputs": [
    {
     "name": "stdout",
     "output_type": "stream",
     "text": [
      "concatenated_string is: Python is awesome.Python is awesome.\n"
     ]
    }
   ],
   "source": [
    "# String Concatenation\n",
    "concatenated_string = single_quoted_string + '' + double_quoted_string\n",
    "print(\"concatenated_string is:\", concatenated_string)\n"
   ]
  },
  {
   "cell_type": "code",
   "execution_count": 6,
   "id": "2ab13638-1d37-40c6-9608-64bd902e5cbf",
   "metadata": {},
   "outputs": [
    {
     "name": "stdout",
     "output_type": "stream",
     "text": [
      "PYTHON IS AWESOME.PYTHON IS AWESOME.\n",
      "python is awesome.python is awesome.\n"
     ]
    }
   ],
   "source": [
    "# string methods\n",
    "uppercase_string = concatenated_string.upper()\n",
    "print(uppercase_string)\n",
    "lowercase_string = concatenated_string.lower()\n",
    "print(lowercase_string)"
   ]
  },
  {
   "cell_type": "code",
   "execution_count": 1,
   "id": "9f09e246-8f64-40e9-9ddf-74e12a016897",
   "metadata": {},
   "outputs": [
    {
     "name": "stdout",
     "output_type": "stream",
     "text": [
      "The area of rectangle is 150.\n"
     ]
    }
   ],
   "source": [
    "# Finding area of rectangle\n",
    "length = 10\n",
    "breadth = 15\n",
    "print(f\"The area of rectangle is {length*breadth}.\")"
   ]
  },
  {
   "cell_type": "code",
   "execution_count": 4,
   "id": "0b77e6e0-8ee7-488c-8ae6-c36534f747ba",
   "metadata": {},
   "outputs": [
    {
     "name": "stdout",
     "output_type": "stream",
     "text": [
      "slice word is: ersity\n"
     ]
    }
   ],
   "source": [
    "# String Slicing examples\n",
    "word = \"University of UK\"\n",
    "slice_word = word[4:10]\n",
    "print(\"slice word is:\", slice_word)"
   ]
  },
  {
   "cell_type": "code",
   "execution_count": 10,
   "id": "3b749555-896e-4a78-bb62-5e78ea3f4d55",
   "metadata": {},
   "outputs": [
    {
     "name": "stdout",
     "output_type": "stream",
     "text": [
      "  Tribhuvan University  \n",
      "Tribhuvan University\n"
     ]
    }
   ],
   "source": [
    "#How to remove extra spacing\n",
    "word_space = \"  Tribhuvan University  \"\n",
    "print(word_space)\n",
    "remove_space = word_space.strip()\n",
    "print(remove_space)"
   ]
  },
  {
   "cell_type": "code",
   "execution_count": 13,
   "id": "e354aeab-af1e-47b3-9a4f-f558abf59eb8",
   "metadata": {},
   "outputs": [
    {
     "name": "stdout",
     "output_type": "stream",
     "text": [
      "Woerd list is: ['Python', 'Is', 'Awesome', 'I', 'am', 'Good']\n",
      "Complete Sentence is: PythonIsAwesomeIamGood\n"
     ]
    }
   ],
   "source": [
    "word_list = [\"Python\", \"Is\", \"Awesome\", \"I\", \"am\", \"Good\"]\n",
    "print(\"Woerd list is:\",word_list)\n",
    "sentence =\"\".join(word_list)\n",
    "print(\"Complete Sentence is:\",sentence)\n"
   ]
  },
  {
   "cell_type": "code",
   "execution_count": 15,
   "id": "8d24f8ad-9680-464e-a6e7-7b6cd1ed482a",
   "metadata": {},
   "outputs": [
    {
     "name": "stdout",
     "output_type": "stream",
     "text": [
      "Replaced String: Hacking World\n"
     ]
    }
   ],
   "source": [
    "word_list=\"Hello World\"\n",
    "replaced_string = word_list.replace(\"Hello\", \"Hacking\")\n",
    "print(\"Replaced String:\",replaced_string)"
   ]
  },
  {
   "cell_type": "code",
   "execution_count": 16,
   "id": "22d6243a-ffb4-40db-8667-bf9c5f4b67f8",
   "metadata": {},
   "outputs": [
    {
     "name": "stdout",
     "output_type": "stream",
     "text": [
      "Index of king: -1\n"
     ]
    }
   ],
   "source": [
    "# find a word in a sentence\n",
    "word =\"Python is Awesome! I'm the King.\"\n",
    "index = word.find(\"king\")\n",
    "print(\"Index of king:\", index)\n"
   ]
  },
  {
   "cell_type": "code",
   "execution_count": 17,
   "id": "6f06e0ea-afe0-456a-9a94-2f750c98f2e9",
   "metadata": {},
   "outputs": [
    {
     "name": "stdout",
     "output_type": "stream",
     "text": [
      "['Animal', 'Hera Pheri', 'Dhamaal', 'Dhol', 'Jatra']\n"
     ]
    }
   ],
   "source": [
    "# List Creation\n",
    "fav_movie = [\"Animal\", \"Hera Pheri\", \"Dhamaal\", \"Dhol\", \"Jatra\"]\n",
    "print(fav_movie)"
   ]
  },
  {
   "cell_type": "code",
   "execution_count": 19,
   "id": "a077bdfa-c153-4d10-b80f-7da58b6e1311",
   "metadata": {},
   "outputs": [
    {
     "name": "stdout",
     "output_type": "stream",
     "text": [
      "My fav movie is: Dhamaal\n",
      "Rashna fav movie is: Dhol\n"
     ]
    }
   ],
   "source": [
    "# Accessing the element of list\n",
    "print(\"My fav movie is:\", fav_movie[2])\n",
    "print(\"Rashna fav movie is:\", fav_movie[3])"
   ]
  },
  {
   "cell_type": "markdown",
   "id": "915f18d6-7bdd-4074-a451-0155e1b2bc78",
   "metadata": {},
   "source": [
    "# finding the length of list\n",
    "print(\"The length of string is:\", len(fav_movie))"
   ]
  },
  {
   "cell_type": "code",
   "execution_count": 25,
   "id": "43e2e7f6-82de-4310-9df7-0c913b7740c3",
   "metadata": {},
   "outputs": [
    {
     "name": "stdout",
     "output_type": "stream",
     "text": [
      "['Nepal', 'India', 'China', 'Bhutan'] [5, 10, 15, 20, 25] [True, False, True, False] ['Nepal', 10, True]\n",
      "[5, 10, 15, 20, 25]\n",
      "[True, False, True, False]\n",
      "['Nepal', 10, True]\n"
     ]
    }
   ],
   "source": [
    "# List can Contain heterogeneous data types\n",
    "list1 = [\"Nepal\", \"India\", \"China\", \"Bhutan\"]\n",
    "list2 = [5 ,10, 15, 20, 25]\n",
    "list3 = [True, False, True, False]\n",
    "list4 = [\"Nepal\", 10, True]\n",
    "print(list1 ,list2 ,list3, list4)\n",
    "print(list2)\n",
    "print(list3)\n",
    "print(list4)"
   ]
  },
  {
   "cell_type": "code",
   "execution_count": 22,
   "id": "7b51d4c0-6a98-4445-bb36-e8fb45cc9660",
   "metadata": {},
   "outputs": [
    {
     "name": "stdout",
     "output_type": "stream",
     "text": [
      "<class 'list'>\n"
     ]
    }
   ],
   "source": [
    "# let's find the type of data types\n",
    "print(type(list4))"
   ]
  },
  {
   "cell_type": "code",
   "execution_count": 24,
   "id": "1748626b-1033-4981-b28c-6e1e0a839dfd",
   "metadata": {},
   "outputs": [
    {
     "name": "stdout",
     "output_type": "stream",
     "text": [
      "['One Piece', 'God of War', [8, 10]]\n",
      "10\n"
     ]
    }
   ],
   "source": [
    "#Nested List\n",
    "nested_list = [\"One Piece\", \"God of War\", [8, 10]]\n",
    "print(nested_list)\n",
    "print(nested_list [2] [1])"
   ]
  },
  {
   "cell_type": "markdown",
   "id": "a9407877-7915-4005-87e0-852e4099faaa",
   "metadata": {},
   "source": [
    "Dictionary"
   ]
  },
  {
   "cell_type": "code",
   "execution_count": 32,
   "id": "2e9faede-e4a6-4d61-9527-61b4bef6efbb",
   "metadata": {},
   "outputs": [
    {
     "name": "stdout",
     "output_type": "stream",
     "text": [
      "{'name': 'Nitin', 'Department': 'Computer Systems Engineering', 'Block': 'The London College'}\n"
     ]
    }
   ],
   "source": [
    "# Create a Dictionary\n",
    "student ={\n",
    "    \"name\": \"Nitin\",\n",
    "    \"Department\": \"Computer Systems Engineering\",\n",
    "    \"Block\": \"The London College\"\n",
    "}\n",
    "print(student)"
   ]
  },
  {
   "cell_type": "code",
   "execution_count": 31,
   "id": "b1404e41-14b8-4bc0-b28b-3944c9b27c6b",
   "metadata": {},
   "outputs": [
    {
     "name": "stdout",
     "output_type": "stream",
     "text": [
      "Student's Name: Nitin\n"
     ]
    }
   ],
   "source": [
    "# Accessing the dictionary items\n",
    "print(\"Student's Name:\", student [\"name\"])"
   ]
  },
  {
   "cell_type": "code",
   "execution_count": 33,
   "id": "c0e37d63-9352-4cee-b68c-c2c8653e2906",
   "metadata": {},
   "outputs": [
    {
     "name": "stdout",
     "output_type": "stream",
     "text": [
      "{'name': 'Nitin', 'Department': 'Computer Systems Engineering', 'Block': 'The London College', 'Year': 2025}\n"
     ]
    }
   ],
   "source": [
    "# Adding a new element\n",
    "student [\"Year\"] = 2025\n",
    "# Printing a Dictionary as a string\n",
    "print(repr(student))"
   ]
  },
  {
   "cell_type": "code",
   "execution_count": 42,
   "id": "1e13f602-9170-48bb-abfe-180ba362841c",
   "metadata": {},
   "outputs": [
    {
     "name": "stdout",
     "output_type": "stream",
     "text": [
      "{'name': 'Nitin', 'Department': 'Computer Systems Engineering', 'Block': 'The London College', 'Year': 2024}\n"
     ]
    }
   ],
   "source": [
    "# Modifying an existing item\n",
    "student [\"Year\"] = 2024\n",
    "print(repr(student))"
   ]
  },
  {
   "cell_type": "code",
   "execution_count": 39,
   "id": "6b49c769-47dc-43b9-ad19-7494041f156d",
   "metadata": {},
   "outputs": [
    {
     "name": "stdout",
     "output_type": "stream",
     "text": [
      "{'name': 'Nitin', 'Department': 'Computer Systems Engineering', 'Block': 'The London College'}\n"
     ]
    }
   ],
   "source": [
    "# Deleting an item if it exists\n",
    "if \"Year\" in student:\n",
    "    del student[\"Year\"]\n",
    "    print(student)"
   ]
  },
  {
   "cell_type": "code",
   "execution_count": 41,
   "id": "24779fc4-1cca-4194-921e-c8b84fd8ac81",
   "metadata": {},
   "outputs": [
    {
     "name": "stdout",
     "output_type": "stream",
     "text": [
      "{'name': 'Tesla', 'comapany': 'Tesla', 'price': 1000000}\n"
     ]
    }
   ],
   "source": [
    "car_dict = dict(name=\"Tesla\", comapany= \"Tesla\", price=1000000)\n",
    "print(repr(car_dict))"
   ]
  },
  {
   "cell_type": "code",
   "execution_count": 3,
   "id": "b42edea4-c5ad-4f79-a24a-7a30c830d803",
   "metadata": {},
   "outputs": [
    {
     "name": "stdout",
     "output_type": "stream",
     "text": [
      "\n",
      "Example 1: Comparing Variables \n",
      "Is 100 smaller than 200? True\n",
      "Is 50 is equal to 100? False\n"
     ]
    }
   ],
   "source": [
    "# Boolean:=\n",
    "print (\"\\nExample 1: Comparing Variables \") \n",
    "print (\"Is 100 smaller than 200?\",200>100)\n",
    "print (\"Is 50 is equal to 100?\", 50 == 100)"
   ]
  },
  {
   "cell_type": "code",
   "execution_count": 6,
   "id": "3eb18c89-78e2-48f8-9222-464ae009c168",
   "metadata": {},
   "outputs": [
    {
     "name": "stdout",
     "output_type": "stream",
     "text": [
      "200 is greater than 50.\n"
     ]
    }
   ],
   "source": [
    "# Examples 2: Finding Greatest Number\n",
    "x = 50\n",
    "y = 200\n",
    "if x > y:\n",
    "    print(f\"{x} is greater than {y}.\")\n",
    "else: \n",
    "    print(f\"{y} is greater than {x}.\")"
   ]
  },
  {
   "cell_type": "code",
   "execution_count": 13,
   "id": "b2df325e-8820-4306-8b27-b8b63832aced",
   "metadata": {},
   "outputs": [
    {
     "name": "stdout",
     "output_type": "stream",
     "text": [
      "Is 'hello' True? True\n",
      "Is x True? True\n",
      "Is y True? True\n"
     ]
    }
   ],
   "source": [
    "#  Evaluating values and variables\n",
    "print (\"Is 'hello' True?\", bool(\"Hello\"))\n",
    "x = \"hi\"\n",
    "y = 25\n",
    "print(\"Is x True?\", bool (x))\n",
    "print (\"Is y True?\", bool (y))"
   ]
  },
  {
   "cell_type": "code",
   "execution_count": 18,
   "id": "0479beaf-3c7f-4082-ac6a-84a76b9decca",
   "metadata": {},
   "outputs": [
    {
     "name": "stdout",
     "output_type": "stream",
     "text": [
      "Is 20  even? True\n",
      "Is 25 even? False\n"
     ]
    }
   ],
   "source": [
    "# Function that returns boolean\n",
    "def is_even(num):\n",
    "    return num % 2 == 0\n",
    "print (\"Is 20  even?\", is_even(20))\n",
    "print (\"Is 25 even?\", is_even(25))\n"
   ]
  },
  {
   "cell_type": "code",
   "execution_count": 19,
   "id": "ef6eaf42-aeb7-4abf-8621-8073f65e381f",
   "metadata": {},
   "outputs": [
    {
     "name": "stdout",
     "output_type": "stream",
     "text": [
      "('Animal', 'Jatra', 'OP')\n"
     ]
    }
   ],
   "source": [
    "# Tuples\n",
    "fav_movie = (\"Animal\", \"Jatra\", \"OP\")\n",
    "print(fav_movie)"
   ]
  },
  {
   "cell_type": "code",
   "execution_count": 20,
   "id": "7d1a1ab5-5af8-469a-aac1-699959b9506d",
   "metadata": {},
   "outputs": [],
   "source": [
    "# Accessing the fav movie"
   ]
  },
  {
   "cell_type": "code",
   "execution_count": 23,
   "id": "48596f30-92b9-42f9-856d-366c9f0a2505",
   "metadata": {},
   "outputs": [
    {
     "name": "stdout",
     "output_type": "stream",
     "text": [
      "Nitin fav movie is Animal\n",
      "Rashna fav movie is OP\n",
      "dedh foot fav Jatra\n"
     ]
    }
   ],
   "source": [
    "print(\"Nitin fav movie is\", fav_movie [0])\n",
    "print (\"Rashna fav movie is\", fav_movie[2])\n",
    "print (\"dedh foot fav\", fav_movie[1])"
   ]
  },
  {
   "cell_type": "code",
   "execution_count": 25,
   "id": "129444a3-d470-4416-816d-c5baf77f9454",
   "metadata": {},
   "outputs": [
    {
     "name": "stdout",
     "output_type": "stream",
     "text": [
      "Seperate Movie: Animal Jatra OP\n"
     ]
    }
   ],
   "source": [
    " x, y, z = fav_movie\n",
    "print(\"Seperate Movie:\", x, y, z)"
   ]
  },
  {
   "cell_type": "code",
   "execution_count": 26,
   "id": "5ecd3322-91ac-402b-92e3-76a589d6abd3",
   "metadata": {},
   "outputs": [
    {
     "name": "stdout",
     "output_type": "stream",
     "text": [
      "Animal\n",
      "Jatra\n",
      "OP\n"
     ]
    }
   ],
   "source": [
    "for item in fav_movie:\n",
    "    print(item)"
   ]
  },
  {
   "cell_type": "code",
   "execution_count": 28,
   "id": "04844a8d-f383-43f2-a5a6-ad452e5420ff",
   "metadata": {},
   "outputs": [
    {
     "name": "stdout",
     "output_type": "stream",
     "text": [
      "('Raju', 'Shyam', 'Baburao', 1, 2, 3)\n"
     ]
    }
   ],
   "source": [
    "# joining the two tupples\n",
    "first_tupple = (\"Raju\", \"Shyam\", \"Baburao\")\n",
    "second_tupple = (1, 2, 3)\n",
    "joined_tupples = first_tupple + second_tupple\n",
    "print (joined_tupples)"
   ]
  },
  {
   "cell_type": "code",
   "execution_count": 29,
   "id": "82bc047b-2635-45ef-916c-ec3471da22f2",
   "metadata": {},
   "outputs": [
    {
     "name": "stdout",
     "output_type": "stream",
     "text": [
      "{'Apple', 'Banana', 'Mango', 'Berry'}\n"
     ]
    }
   ],
   "source": [
    "# Sets \n",
    "my_first_set = {\"Apple\", \"Banana\", \"Mango\", \"Berry\"}\n",
    "print(my_first_set)"
   ]
  },
  {
   "cell_type": "code",
   "execution_count": 31,
   "id": "e70a8e8c-4718-4236-af9c-a14fce540c3b",
   "metadata": {},
   "outputs": [
    {
     "name": "stdout",
     "output_type": "stream",
     "text": [
      "{'Mango', 'Apple', 'Banana', 'Berry', 'Cherry'}\n"
     ]
    }
   ],
   "source": [
    "# Addinf a new fruit to our set\n",
    "my_first_set.add(\"Cherry\")\n",
    "print(my_first_set)"
   ]
  },
  {
   "cell_type": "code",
   "execution_count": 32,
   "id": "770e98ac-0374-4e92-9344-05088ad904c6",
   "metadata": {},
   "outputs": [
    {
     "name": "stdout",
     "output_type": "stream",
     "text": [
      "{'Mango', 'Apple', 'Banana', 'Berry', 'Guava', 'Cherry', 'Pineapple'}\n"
     ]
    }
   ],
   "source": [
    "# updating our sets\n",
    "my_first_set.update([\"Pineapple\",\"Guava\"])\n",
    "print(my_first_set)"
   ]
  },
  {
   "cell_type": "code",
   "execution_count": 33,
   "id": "1369f508-19d2-4501-b452-9eeed6be02e9",
   "metadata": {},
   "outputs": [
    {
     "name": "stdout",
     "output_type": "stream",
     "text": [
      "{'Mango', 'Apple', 'Banana', 'Berry', 'Guava', 'Pineapple'}\n"
     ]
    }
   ],
   "source": [
    "# removing our sets\n",
    "my_first_set.remove(\"Cherry\")\n",
    "print(my_first_set)"
   ]
  },
  {
   "cell_type": "code",
   "execution_count": 34,
   "id": "7c16855b-8705-4379-8909-6da428346abf",
   "metadata": {},
   "outputs": [
    {
     "name": "stdout",
     "output_type": "stream",
     "text": [
      "80 is greates number.\n"
     ]
    }
   ],
   "source": [
    "# Conditional Statement\n",
    "# find the greatest number among these\n",
    "a = 50\n",
    "b = 60\n",
    "c = 80\n",
    "if a>=b and a>=c:\n",
    "    print(f\"{a} is greatest number.\")\n",
    "elif b>=a and b>=c:\n",
    "    print(f\"{b} is greatest number.\")\n",
    "else:\n",
    "    print(f\"{c} is greates number.\")\n",
    "    \n",
    "    \n",
    " "
   ]
  },
  {
   "cell_type": "code",
   "execution_count": 36,
   "id": "58b4121e-3186-4fb8-9ca3-e1a1fe2e4be2",
   "metadata": {},
   "outputs": [
    {
     "name": "stdout",
     "output_type": "stream",
     "text": [
      "Leap Year\n"
     ]
    }
   ],
   "source": [
    "# Leap Year\n",
    "year = 2024\n",
    "if (year % 4 == 0 and year % 100 !=0) or (year % 400 == 0):\n",
    "    print(\"Leap Year\")\n",
    "else:\n",
    "    print(\"Not a Leap year\")"
   ]
  },
  {
   "cell_type": "code",
   "execution_count": 44,
   "id": "46e5f352-6ad7-43f7-8ff9-e63604c38649",
   "metadata": {},
   "outputs": [
    {
     "name": "stdout",
     "output_type": "stream",
     "text": [
      "Spring\n"
     ]
    }
   ],
   "source": [
    "# Season based on the month\n",
    "month = \"Jan\"\n",
    "\n",
    "if month in [\"Jan\", \"Feb\", \"March\"]:\n",
    "    print(\"Spring\")\n",
    "elif month in [\"Sep\", \"Oct\", \"Nov\"]:\n",
    "    print(\"Autumn\")\n",
    "elif month in [\"June\", \"July\", \"August\"]:\n",
    "    print(\"Summer\")"
   ]
  },
  {
   "cell_type": "code",
   "execution_count": 3,
   "id": "e1de8f07-a0d5-4c5b-83b2-d318d6cb1c9e",
   "metadata": {},
   "outputs": [
    {
     "name": "stdout",
     "output_type": "stream",
     "text": [
      "\n",
      "Multiple of two:\n",
      "2\n",
      "4\n",
      "6\n",
      "8\n",
      "10\n"
     ]
    }
   ],
   "source": [
    "# Loops\n",
    "multiple_of_two = [2,4,6,8,10]\n",
    "print(\"\\nMultiple of two:\")\n",
    "for i in multiple_of_two:\n",
    "    print(i)"
   ]
  },
  {
   "cell_type": "code",
   "execution_count": 4,
   "id": "ace326a0-bd97-4e0c-a1e4-641cc79c6607",
   "metadata": {},
   "outputs": [
    {
     "name": "stdout",
     "output_type": "stream",
     "text": [
      "P\n",
      "y\n",
      "t\n",
      "h\n",
      "o\n",
      "n\n",
      " \n",
      "i\n",
      "s\n",
      " \n",
      "A\n",
      "w\n",
      "e\n",
      "s\n",
      "o\n",
      "m\n",
      "e\n"
     ]
    }
   ],
   "source": [
    "#String in loops\n",
    "string = \"Python is Awesome\"\n",
    "for char in string:\n",
    "    print(char)"
   ]
  },
  {
   "cell_type": "code",
   "execution_count": 6,
   "id": "8a4cd113-f408-488c-977c-14edc687c903",
   "metadata": {},
   "outputs": [
    {
     "name": "stdout",
     "output_type": "stream",
     "text": [
      "0\n",
      "1\n",
      "2\n",
      "3\n",
      "4\n",
      "5\n",
      "6\n",
      "7\n",
      "8\n",
      "9\n",
      "1\n",
      "2\n",
      "3\n",
      "4\n",
      "5\n",
      "6\n",
      "7\n",
      "8\n",
      "9\n"
     ]
    }
   ],
   "source": [
    "# Range\n",
    "for i in range (10):\n",
    "    print(i)\n",
    "for n in range(1,10):\n",
    "    print(n)"
   ]
  },
  {
   "cell_type": "code",
   "execution_count": 7,
   "id": "06c087a0-c79c-4d55-92dc-f9d01acae335",
   "metadata": {},
   "outputs": [
    {
     "name": "stdout",
     "output_type": "stream",
     "text": [
      "0\n",
      "2\n",
      "4\n",
      "6\n",
      "8\n",
      "10\n"
     ]
    }
   ],
   "source": [
    "# Even Number from 1 to 10\n",
    "for i in range(0,11,2):\n",
    "    print(i)"
   ]
  },
  {
   "cell_type": "code",
   "execution_count": 9,
   "id": "1536dd17-c876-40ca-b3cc-d06cf52d8245",
   "metadata": {},
   "outputs": [
    {
     "name": "stdout",
     "output_type": "stream",
     "text": [
      "1\n",
      "3\n",
      "5\n",
      "7\n",
      "9\n",
      "11\n"
     ]
    }
   ],
   "source": [
    "# Odd number from 1 to 11\n",
    "for i in range (1,12,2):\n",
    "    print(i)"
   ]
  },
  {
   "cell_type": "code",
   "execution_count": 16,
   "id": "30733f81-3e8d-46c6-bae9-4271398943b6",
   "metadata": {},
   "outputs": [
    {
     "name": "stdout",
     "output_type": "stream",
     "text": [
      "19\n",
      "17\n",
      "15\n",
      "13\n",
      "11\n"
     ]
    }
   ],
   "source": [
    "for i in range (19,10,-2):\n",
    "    print(i)\n"
   ]
  },
  {
   "cell_type": "code",
   "execution_count": 17,
   "id": "d156b3c4-6bf7-4f66-bddd-3951f56ffe61",
   "metadata": {},
   "outputs": [
    {
     "name": "stdout",
     "output_type": "stream",
     "text": [
      "Dunki : 8\n",
      "Animal : 9\n",
      "RRR : 6\n"
     ]
    }
   ],
   "source": [
    "# Dictionary\n",
    "fav_movie ={\n",
    "    \"Dunki\":8,\n",
    "    \"Animal\":9,\n",
    "    \"RRR\":6\n",
    "           }\n",
    "for key,value in fav_movie.items():\n",
    "    print(key,\":\", value)"
   ]
  },
  {
   "cell_type": "code",
   "execution_count": 24,
   "id": "07f0d375-e4ba-458c-b161-7bdc463f7b31",
   "metadata": {},
   "outputs": [
    {
     "name": "stdout",
     "output_type": "stream",
     "text": [
      "\n",
      "Elements of movie Tuple:\n",
      "('Animal', 9)\n",
      "('Jatra', 7)\n",
      "('OP', 8)\n"
     ]
    }
   ],
   "source": [
    "# Tuples with loop\n",
    "fav_movie = [(\"Animal\", 9), (\"Jatra\", 7), (\"OP\", 8)]\n",
    "print(\"\\nElements of movie Tuple:\")\n",
    "for item in fav_movie:\n",
    "    print(item)"
   ]
  },
  {
   "cell_type": "code",
   "execution_count": 25,
   "id": "f0cfd82c-523b-4a40-b051-bb8f1f9c04b0",
   "metadata": {},
   "outputs": [
    {
     "name": "stdout",
     "output_type": "stream",
     "text": [
      "Character: Animal |Rating: 9\n",
      "Character: Jatra |Rating: 7\n",
      "Character: OP |Rating: 8\n"
     ]
    }
   ],
   "source": [
    "# Seperating each element for tuple movie\n",
    "for char, num in fav_movie:\n",
    "    print(\"Character:\", char, \"|Rating:\", num)"
   ]
  },
  {
   "cell_type": "code",
   "execution_count": 26,
   "id": "db322994-83fc-4335-9d4d-feb773d02e91",
   "metadata": {},
   "outputs": [
    {
     "name": "stdout",
     "output_type": "stream",
     "text": [
      "1\n",
      "2\n",
      "3\n",
      "4\n",
      "5\n",
      "6\n",
      "7\n",
      "8\n",
      "9\n",
      "10\n"
     ]
    }
   ],
   "source": [
    "# While Loop Concept\n",
    "count = 1\n",
    "while count <=10:\n",
    "    print(count)\n",
    "    count +=1"
   ]
  },
  {
   "cell_type": "code",
   "execution_count": 28,
   "id": "04cf916b-f06b-4c63-93ad-ae75e30a4773",
   "metadata": {},
   "outputs": [
    {
     "name": "stdout",
     "output_type": "stream",
     "text": [
      "nThe sum of numbers from 1 to 10 is: 55\n"
     ]
    }
   ],
   "source": [
    "\n",
    "num = 1\n",
    "total_sum = 0\n",
    "\n",
    "\n",
    "while num <= 10:\n",
    "    total_sum += num\n",
    "    num += 1\n",
    "\n",
    "print(\"nThe sum of numbers from 1 to 10 is:\", total_sum)\n"
   ]
  },
  {
   "cell_type": "code",
   "execution_count": 29,
   "id": "a438b94b-c0f3-4db7-beef-69b031dbb39f",
   "metadata": {},
   "outputs": [
    {
     "name": "stdout",
     "output_type": "stream",
     "text": [
      "The sum of even numbers from 1 to 10 is: 30\n"
     ]
    }
   ],
   "source": [
    "# find the sum of number from 1 to 10 even numbers only\n",
    "\n",
    "num = 1\n",
    "total_sum = 0\n",
    "\n",
    "\n",
    "while num <= 10:\n",
    "    if num % 2 == 0:\n",
    "        total_sum += num\n",
    "    num += 1\n",
    "\n",
    "\n",
    "print(\"The sum of even numbers from 1 to 10 is:\", total_sum)\n",
    "\n"
   ]
  },
  {
   "cell_type": "code",
   "execution_count": 31,
   "id": "ec406e6d-42a4-4426-ad02-c808abf717a0",
   "metadata": {},
   "outputs": [
    {
     "name": "stdout",
     "output_type": "stream",
     "text": [
      "2\n",
      "4\n",
      "6\n",
      "8\n",
      "10\n"
     ]
    }
   ],
   "source": [
    "# Find the even number from 1 to 10 using while loop\n",
    "num = 1\n",
    "while num <= 10:\n",
    "    \n",
    "    if num % 2 == 0:\n",
    "        print(num)\n",
    "    \n",
    "    num += 1\n",
    "\n"
   ]
  },
  {
   "cell_type": "code",
   "execution_count": 34,
   "id": "8be3d465-6410-4d6d-96e2-f71c9563535b",
   "metadata": {},
   "outputs": [
    {
     "name": "stdout",
     "output_type": "stream",
     "text": [
      "Factorial: 120\n"
     ]
    }
   ],
   "source": [
    "# Using While loop to calculate factorial\n",
    "num = 5\n",
    "factorial = 1\n",
    "while num > 0:\n",
    "    factorial *= num\n",
    "    num -= 1\n",
    "print(\"Factorial:\", factorial)"
   ]
  },
  {
   "cell_type": "code",
   "execution_count": 35,
   "id": "733ffad8-37ca-407f-9c32-3678f86590b1",
   "metadata": {},
   "outputs": [
    {
     "name": "stdout",
     "output_type": "stream",
     "text": [
      "Reversed string:  ymliF\n"
     ]
    }
   ],
   "source": [
    "#Reverse a given string\n",
    "string = \"Filmy \"\n",
    "reversed_string = string[::-1]\n",
    "print(\"Reversed string:\", reversed_string)"
   ]
  },
  {
   "cell_type": "code",
   "execution_count": 36,
   "id": "98fb055e-793c-45c0-b260-b484bf3c18d8",
   "metadata": {},
   "outputs": [
    {
     "name": "stdout",
     "output_type": "stream",
     "text": [
      "Hello World!!!\n"
     ]
    }
   ],
   "source": [
    "#Function\n",
    "def greet():\n",
    "    print(\"Hello World!!!\")\n",
    "greet()\n"
   ]
  },
  {
   "cell_type": "code",
   "execution_count": null,
   "id": "0fc175e2-2eda-4727-b5f5-3dea9665eee0",
   "metadata": {},
   "outputs": [],
   "source": []
  }
 ],
 "metadata": {
  "kernelspec": {
   "display_name": "Python 3 (ipykernel)",
   "language": "python",
   "name": "python3"
  },
  "language_info": {
   "codemirror_mode": {
    "name": "ipython",
    "version": 3
   },
   "file_extension": ".py",
   "mimetype": "text/x-python",
   "name": "python",
   "nbconvert_exporter": "python",
   "pygments_lexer": "ipython3",
   "version": "3.11.7"
  }
 },
 "nbformat": 4,
 "nbformat_minor": 5
}
