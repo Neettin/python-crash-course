{
 "cells": [
  {
   "cell_type": "code",
   "execution_count": 1,
   "id": "6ce8d7a7-cfd4-4a59-8df0-39925469faa4",
   "metadata": {},
   "outputs": [
    {
     "name": "stdout",
     "output_type": "stream",
     "text": [
      "Nitin Gupta\n"
     ]
    }
   ],
   "source": [
    "#Write a Python program that prints your name to the console\n",
    "print(\"Nitin Gupta\")"
   ]
  },
  {
   "cell_type": "code",
   "execution_count": 2,
   "id": "a87bc9f6-1a1d-4485-a715-e0b0b3bf6a5d",
   "metadata": {},
   "outputs": [
    {
     "name": "stdin",
     "output_type": "stream",
     "text": [
      "Enter first number:  10\n",
      "Enter second number:  20\n"
     ]
    },
    {
     "name": "stdout",
     "output_type": "stream",
     "text": [
      "Sum: 30.0\n"
     ]
    }
   ],
   "source": [
    "#Create a Python script that takes two numbers as input from the user and prints their sum.\n",
    "num1 = float(input(\"Enter first number: \"))\n",
    "num2 = float(input(\"Enter second number: \"))\n",
    "sum = num1 + num2\n",
    "print(\"Sum:\", sum)"
   ]
  },
  {
   "cell_type": "code",
   "execution_count": 3,
   "id": "84078ec6-7191-441d-96ac-50565c57d650",
   "metadata": {},
   "outputs": [
    {
     "name": "stdin",
     "output_type": "stream",
     "text": [
      "Enter first number:  20\n",
      "Enter second number:  40\n"
     ]
    },
    {
     "name": "stdout",
     "output_type": "stream",
     "text": [
      "Sum: 60.00\n"
     ]
    }
   ],
   "source": [
    "#Modify the script from question 2 to print the result with two decimal places\n",
    "num1 = float(input(\"Enter first number: \"))\n",
    "num2 = float(input(\"Enter second number: \"))\n",
    "sum = num1 + num2\n",
    "print(\"Sum: {:.2f}\".format(sum))"
   ]
  },
  {
   "cell_type": "code",
   "execution_count": 4,
   "id": "91416db3-a1d2-4c58-8df1-d703f55bf54a",
   "metadata": {},
   "outputs": [
    {
     "name": "stdout",
     "output_type": "stream",
     "text": [
      "Fibonacci Series:\n",
      "0\n",
      "1\n",
      "1\n",
      "2\n",
      "3\n",
      "5\n",
      "8\n",
      "13\n",
      "21\n",
      "34\n"
     ]
    }
   ],
   "source": [
    "#First 10 Fibonacci numbers\n",
    "a, b = 0, 1\n",
    "print(\"Fibonacci Series:\")\n",
    "for _ in range(10):\n",
    "    print(a)\n",
    "    a, b = b, a + b"
   ]
  },
  {
   "cell_type": "code",
   "execution_count": 5,
   "id": "9255dfec-7335-456d-9430-cd864c46a3c7",
   "metadata": {},
   "outputs": [
    {
     "name": "stdin",
     "output_type": "stream",
     "text": [
      "Enter a number:  5\n"
     ]
    },
    {
     "name": "stdout",
     "output_type": "stream",
     "text": [
      "Multiplication Table for 5\n",
      "5 x 1 = 5\n",
      "5 x 2 = 10\n",
      "5 x 3 = 15\n",
      "5 x 4 = 20\n",
      "5 x 5 = 25\n",
      "5 x 6 = 30\n",
      "5 x 7 = 35\n",
      "5 x 8 = 40\n",
      "5 x 9 = 45\n",
      "5 x 10 = 50\n"
     ]
    }
   ],
   "source": [
    "#Multiplication table for a given number:\n",
    "num = int(input(\"Enter a number: \"))\n",
    "print(\"Multiplication Table for\", num)\n",
    "for i in range(1, 11):\n",
    "    print(num, \"x\", i, \"=\", num * i)"
   ]
  },
  {
   "cell_type": "code",
   "execution_count": 6,
   "id": "78e7baba-9b9f-4f4c-80e8-c8b715299c6f",
   "metadata": {},
   "outputs": [
    {
     "name": "stdout",
     "output_type": "stream",
     "text": [
      "10, 9, 8, 7, 6, 5, 4, 3, 2, 1\n"
     ]
    }
   ],
   "source": [
    "#Countdown from 10 to 1 with numbers separated by comma and space\n",
    "countdown = \"\"\n",
    "for i in range(10, 0, -1):\n",
    "    countdown += str(i) + \", \"\n",
    "print(countdown[:-2])  # Removing the last comma and space"
   ]
  },
  {
   "cell_type": "code",
   "execution_count": 9,
   "id": "4474c4e5-cab9-4acb-a545-a69da104aa06",
   "metadata": {},
   "outputs": [
    {
     "name": "stdin",
     "output_type": "stream",
     "text": [
      "Enter the name of the file:  Practice.ipynb\n"
     ]
    },
    {
     "name": "stdout",
     "output_type": "stream",
     "text": [
      "{\n",
      " \"cells\": [\n",
      "  {\n",
      "   \"cell_type\": \"code\",\n",
      "   \"execution_count\": 1,\n",
      "   \"id\": \"6ce8d7a7-cfd4-4a59-8df0-39925469faa4\",\n",
      "   \"metadata\": {},\n",
      "   \"outputs\": [\n",
      "    {\n",
      "     \"name\": \"stdout\",\n",
      "     \"output_type\": \"stream\",\n",
      "     \"text\": [\n",
      "      \"Nitin Gupta\\n\"\n",
      "     ]\n",
      "    }\n",
      "   ],\n",
      "   \"source\": [\n",
      "    \"#Write a Python program that prints your name to the console\\n\",\n",
      "    \"print(\\\"Nitin Gupta\\\")\"\n",
      "   ]\n",
      "  },\n",
      "  {\n",
      "   \"cell_type\": \"code\",\n",
      "   \"execution_count\": 2,\n",
      "   \"id\": \"a87bc9f6-1a1d-4485-a715-e0b0b3bf6a5d\",\n",
      "   \"metadata\": {},\n",
      "   \"outputs\": [\n",
      "    {\n",
      "     \"name\": \"stdin\",\n",
      "     \"output_type\": \"stream\",\n",
      "     \"text\": [\n",
      "      \"Enter first number:  10\\n\",\n",
      "      \"Enter second number:  20\\n\"\n",
      "     ]\n",
      "    },\n",
      "    {\n",
      "     \"name\": \"stdout\",\n",
      "     \"output_type\": \"stream\",\n",
      "     \"text\": [\n",
      "      \"Sum: 30.0\\n\"\n",
      "     ]\n",
      "    }\n",
      "   ],\n",
      "   \"source\": [\n",
      "    \"#Create a Python script that takes two numbers as input from the user and prints their sum.\\n\",\n",
      "    \"num1 = float(input(\\\"Enter first number: \\\"))\\n\",\n",
      "    \"num2 = float(input(\\\"Enter second number: \\\"))\\n\",\n",
      "    \"sum = num1 + num2\\n\",\n",
      "    \"print(\\\"Sum:\\\", sum)\"\n",
      "   ]\n",
      "  },\n",
      "  {\n",
      "   \"cell_type\": \"code\",\n",
      "   \"execution_count\": 3,\n",
      "   \"id\": \"84078ec6-7191-441d-96ac-50565c57d650\",\n",
      "   \"metadata\": {},\n",
      "   \"outputs\": [\n",
      "    {\n",
      "     \"name\": \"stdin\",\n",
      "     \"output_type\": \"stream\",\n",
      "     \"text\": [\n",
      "      \"Enter first number:  20\\n\",\n",
      "      \"Enter second number:  40\\n\"\n",
      "     ]\n",
      "    },\n",
      "    {\n",
      "     \"name\": \"stdout\",\n",
      "     \"output_type\": \"stream\",\n",
      "     \"text\": [\n",
      "      \"Sum: 60.00\\n\"\n",
      "     ]\n",
      "    }\n",
      "   ],\n",
      "   \"source\": [\n",
      "    \"#Modify the script from question 2 to print the result with two decimal places\\n\",\n",
      "    \"num1 = float(input(\\\"Enter first number: \\\"))\\n\",\n",
      "    \"num2 = float(input(\\\"Enter second number: \\\"))\\n\",\n",
      "    \"sum = num1 + num2\\n\",\n",
      "    \"print(\\\"Sum: {:.2f}\\\".format(sum))\"\n",
      "   ]\n",
      "  },\n",
      "  {\n",
      "   \"cell_type\": \"code\",\n",
      "   \"execution_count\": 4,\n",
      "   \"id\": \"91416db3-a1d2-4c58-8df1-d703f55bf54a\",\n",
      "   \"metadata\": {},\n",
      "   \"outputs\": [\n",
      "    {\n",
      "     \"name\": \"stdout\",\n",
      "     \"output_type\": \"stream\",\n",
      "     \"text\": [\n",
      "      \"Fibonacci Series:\\n\",\n",
      "      \"0\\n\",\n",
      "      \"1\\n\",\n",
      "      \"1\\n\",\n",
      "      \"2\\n\",\n",
      "      \"3\\n\",\n",
      "      \"5\\n\",\n",
      "      \"8\\n\",\n",
      "      \"13\\n\",\n",
      "      \"21\\n\",\n",
      "      \"34\\n\"\n",
      "     ]\n",
      "    }\n",
      "   ],\n",
      "   \"source\": [\n",
      "    \"#First 10 Fibonacci numbers\\n\",\n",
      "    \"a, b = 0, 1\\n\",\n",
      "    \"print(\\\"Fibonacci Series:\\\")\\n\",\n",
      "    \"for _ in range(10):\\n\",\n",
      "    \"    print(a)\\n\",\n",
      "    \"    a, b = b, a + b\"\n",
      "   ]\n",
      "  },\n",
      "  {\n",
      "   \"cell_type\": \"code\",\n",
      "   \"execution_count\": 5,\n",
      "   \"id\": \"9255dfec-7335-456d-9430-cd864c46a3c7\",\n",
      "   \"metadata\": {},\n",
      "   \"outputs\": [\n",
      "    {\n",
      "     \"name\": \"stdin\",\n",
      "     \"output_type\": \"stream\",\n",
      "     \"text\": [\n",
      "      \"Enter a number:  5\\n\"\n",
      "     ]\n",
      "    },\n",
      "    {\n",
      "     \"name\": \"stdout\",\n",
      "     \"output_type\": \"stream\",\n",
      "     \"text\": [\n",
      "      \"Multiplication Table for 5\\n\",\n",
      "      \"5 x 1 = 5\\n\",\n",
      "      \"5 x 2 = 10\\n\",\n",
      "      \"5 x 3 = 15\\n\",\n",
      "      \"5 x 4 = 20\\n\",\n",
      "      \"5 x 5 = 25\\n\",\n",
      "      \"5 x 6 = 30\\n\",\n",
      "      \"5 x 7 = 35\\n\",\n",
      "      \"5 x 8 = 40\\n\",\n",
      "      \"5 x 9 = 45\\n\",\n",
      "      \"5 x 10 = 50\\n\"\n",
      "     ]\n",
      "    }\n",
      "   ],\n",
      "   \"source\": [\n",
      "    \"#Multiplication table for a given number:\\n\",\n",
      "    \"num = int(input(\\\"Enter a number: \\\"))\\n\",\n",
      "    \"print(\\\"Multiplication Table for\\\", num)\\n\",\n",
      "    \"for i in range(1, 11):\\n\",\n",
      "    \"    print(num, \\\"x\\\", i, \\\"=\\\", num * i)\"\n",
      "   ]\n",
      "  },\n",
      "  {\n",
      "   \"cell_type\": \"code\",\n",
      "   \"execution_count\": 6,\n",
      "   \"id\": \"78e7baba-9b9f-4f4c-80e8-c8b715299c6f\",\n",
      "   \"metadata\": {},\n",
      "   \"outputs\": [\n",
      "    {\n",
      "     \"name\": \"stdout\",\n",
      "     \"output_type\": \"stream\",\n",
      "     \"text\": [\n",
      "      \"10, 9, 8, 7, 6, 5, 4, 3, 2, 1\\n\"\n",
      "     ]\n",
      "    }\n",
      "   ],\n",
      "   \"source\": [\n",
      "    \"#Countdown from 10 to 1 with numbers separated by comma and space\\n\",\n",
      "    \"countdown = \\\"\\\"\\n\",\n",
      "    \"for i in range(10, 0, -1):\\n\",\n",
      "    \"    countdown += str(i) + \\\", \\\"\\n\",\n",
      "    \"print(countdown[:-2])  # Removing the last comma and space\"\n",
      "   ]\n",
      "  },\n",
      "  {\n",
      "   \"cell_type\": \"code\",\n",
      "   \"execution_count\": null,\n",
      "   \"id\": \"4474c4e5-cab9-4acb-a545-a69da104aa06\",\n",
      "   \"metadata\": {},\n",
      "   \"outputs\": [],\n",
      "   \"source\": [\n",
      "    \"#Print contents of a text file\\n\",\n",
      "    \"file_name = input(\\\"Enter the name of the file: \\\")\\n\",\n",
      "    \"with open(file_name, 'r') as file:\\n\",\n",
      "    \"    contents = file.read()\\n\",\n",
      "    \"    print(contents)\"\n",
      "   ]\n",
      "  },\n",
      "  {\n",
      "   \"cell_type\": \"code\",\n",
      "   \"execution_count\": null,\n",
      "   \"id\": \"64fa0fb0-d65a-4dd0-bb97-7c8e1ff597c3\",\n",
      "   \"metadata\": {},\n",
      "   \"outputs\": [],\n",
      "   \"source\": []\n",
      "  }\n",
      " ],\n",
      " \"metadata\": {\n",
      "  \"kernelspec\": {\n",
      "   \"display_name\": \"Python 3 (ipykernel)\",\n",
      "   \"language\": \"python\",\n",
      "   \"name\": \"python3\"\n",
      "  },\n",
      "  \"language_info\": {\n",
      "   \"codemirror_mode\": {\n",
      "    \"name\": \"ipython\",\n",
      "    \"version\": 3\n",
      "   },\n",
      "   \"file_extension\": \".py\",\n",
      "   \"mimetype\": \"text/x-python\",\n",
      "   \"name\": \"python\",\n",
      "   \"nbconvert_exporter\": \"python\",\n",
      "   \"pygments_lexer\": \"ipython3\",\n",
      "   \"version\": \"3.11.7\"\n",
      "  }\n",
      " },\n",
      " \"nbformat\": 4,\n",
      " \"nbformat_minor\": 5\n",
      "}\n",
      "\n"
     ]
    }
   ],
   "source": [
    "#Print contents of a text file\n",
    "file_name = input(\"Enter the name of the file: \")\n",
    "with open(file_name, 'r') as file:\n",
    "    contents = file.read()\n",
    "    print(contents)"
   ]
  },
  {
   "cell_type": "code",
   "execution_count": 10,
   "id": "64fa0fb0-d65a-4dd0-bb97-7c8e1ff597c3",
   "metadata": {},
   "outputs": [
    {
     "name": "stdin",
     "output_type": "stream",
     "text": [
      "Enter the number of rows:  4\n"
     ]
    },
    {
     "name": "stdout",
     "output_type": "stream",
     "text": [
      "*\n",
      "**\n",
      "***\n",
      "****\n"
     ]
    }
   ],
   "source": [
    "#Print a pattern of stars like a triangle\n",
    "rows = int(input(\"Enter the number of rows: \"))\n",
    "for i in range(1, rows + 1):\n",
    "    print(\"*\" * i)"
   ]
  },
  {
   "cell_type": "code",
   "execution_count": 11,
   "id": "7a9c27e6-181a-4a2c-bc00-52212c7a7803",
   "metadata": {},
   "outputs": [
    {
     "name": "stdout",
     "output_type": "stream",
     "text": [
      "Current Date and Time: 2024-05-12 21:38:23.618201\n"
     ]
    }
   ],
   "source": [
    "#Print current date and time\n",
    "import datetime\n",
    "current_datetime = datetime.datetime.now()\n",
    "print(\"Current Date and Time:\", current_datetime)"
   ]
  },
  {
   "cell_type": "markdown",
   "id": "5abcea9c-2d80-4d17-b60c-bbb9b75b9b2a",
   "metadata": {},
   "source": [
    "Data Types"
   ]
  },
  {
   "cell_type": "code",
   "execution_count": 12,
   "id": "2a1b55f0-64ea-44bd-8fd6-237f69c1c2f7",
   "metadata": {},
   "outputs": [
    {
     "name": "stdin",
     "output_type": "stream",
     "text": [
      "Enter the radius of the circle:  8\n"
     ]
    },
    {
     "name": "stdout",
     "output_type": "stream",
     "text": [
      "Area of the circle: 201.06192982974676\n"
     ]
    }
   ],
   "source": [
    "#Calculate the area of a circle with a given radius\n",
    "import math\n",
    "radius = float(input(\"Enter the radius of the circle: \"))\n",
    "area = math.pi * (radius ** 2)\n",
    "print(\"Area of the circle:\", area)"
   ]
  },
  {
   "cell_type": "code",
   "execution_count": 13,
   "id": "d3b95845-0808-4492-a312-3a660caaea41",
   "metadata": {},
   "outputs": [
    {
     "name": "stdin",
     "output_type": "stream",
     "text": [
      "Enter first number:  8\n",
      "Enter second number:  2\n"
     ]
    },
    {
     "name": "stdout",
     "output_type": "stream",
     "text": [
      "Result of division: 4.0\n"
     ]
    }
   ],
   "source": [
    "#Division of two numbers\n",
    "num1 = float(input(\"Enter first number: \"))\n",
    "num2 = float(input(\"Enter second number: \"))\n",
    "if num2 != 0:\n",
    "    result = num1 / num2\n",
    "    print(\"Result of division:\", result)\n",
    "else:\n",
    "    print(\"Cannot divide by zero.\")"
   ]
  },
  {
   "cell_type": "code",
   "execution_count": 14,
   "id": "8031a009-0ae8-4cc0-9c79-154d6630c76a",
   "metadata": {},
   "outputs": [
    {
     "name": "stdin",
     "output_type": "stream",
     "text": [
      "Enter a number:  6\n"
     ]
    },
    {
     "name": "stdout",
     "output_type": "stream",
     "text": [
      "Factorial of 6 : 720\n"
     ]
    }
   ],
   "source": [
    "#Factorial of a given number\n",
    "num = int(input(\"Enter a number: \"))\n",
    "factorial = 1\n",
    "for i in range(1, num + 1):\n",
    "    factorial *= i\n",
    "print(\"Factorial of\", num, \":\", factorial)"
   ]
  },
  {
   "cell_type": "code",
   "execution_count": 15,
   "id": "467854b8-90b9-41bc-8300-92ae68180be5",
   "metadata": {},
   "outputs": [
    {
     "name": "stdin",
     "output_type": "stream",
     "text": [
      "Enter temperature in Celsius:  42\n"
     ]
    },
    {
     "name": "stdout",
     "output_type": "stream",
     "text": [
      "Temperature in Fahrenheit: 107.6\n"
     ]
    }
   ],
   "source": [
    "#Convert temperature from Celsius to Fahrenheit\n",
    "celsius = float(input(\"Enter temperature in Celsius: \"))\n",
    "fahrenheit = (celsius * 9/5) + 32\n",
    "print(\"Temperature in Fahrenheit:\", fahrenheit)"
   ]
  },
  {
   "cell_type": "code",
   "execution_count": 16,
   "id": "dcf193f5-56eb-4199-b88e-160eec8d3a6a",
   "metadata": {},
   "outputs": [
    {
     "name": "stdout",
     "output_type": "stream",
     "text": [
      "Random number between 1 and 100: 48\n"
     ]
    }
   ],
   "source": [
    "#Generate a random number between 1 and 100\n",
    "import random\n",
    "random_number = random.randint(1, 100)\n",
    "print(\"Random number between 1 and 100:\", random_number)"
   ]
  },
  {
   "cell_type": "markdown",
   "id": "06d4cdfa-3a9e-457a-8efe-7b7e66f662de",
   "metadata": {},
   "source": [
    "String"
   ]
  },
  {
   "cell_type": "code",
   "execution_count": 18,
   "id": "2762dae5-503a-473d-b9b0-f2204c0a18f6",
   "metadata": {},
   "outputs": [
    {
     "name": "stdin",
     "output_type": "stream",
     "text": [
      "Reversing a string  Nitin Gupta\n"
     ]
    },
    {
     "name": "stdout",
     "output_type": "stream",
     "text": [
      "Reversed string: atpuG nitiN\n"
     ]
    }
   ],
   "source": [
    "#Reverse a given string\n",
    "string = input(\"Reversing a string \")\n",
    "reversed_string = string[::-1]\n",
    "print(\"Reversed string:\", reversed_string)"
   ]
  },
  {
   "cell_type": "code",
   "execution_count": 19,
   "id": "9e853b15-bc32-43ff-96e6-c47a01ef1411",
   "metadata": {},
   "outputs": [
    {
     "name": "stdin",
     "output_type": "stream",
     "text": [
      "Enter a string:  god of war\n"
     ]
    },
    {
     "name": "stdout",
     "output_type": "stream",
     "text": [
      "Not a God of War\n"
     ]
    }
   ],
   "source": [
    "#Check if a given string is a palindrome\n",
    "string = input(\"Enter a string: \")\n",
    "if string == string[::-1]:\n",
    "    print(\"God of War\")\n",
    "else:\n",
    "    print(\"Not a God of War\")"
   ]
  },
  {
   "cell_type": "code",
   "execution_count": 20,
   "id": "201bdc3f-b670-41c6-9a22-658b0ec509fd",
   "metadata": {},
   "outputs": [
    {
     "name": "stdin",
     "output_type": "stream",
     "text": [
      "Enter a sentence:  Python is Awesome\n"
     ]
    },
    {
     "name": "stdout",
     "output_type": "stream",
     "text": [
      "Reversed sentence: Awesome is Python\n"
     ]
    }
   ],
   "source": [
    "#Reverse the words in a sentence\n",
    "sentence = input(\"Enter a sentence: \")\n",
    "words = sentence.split()\n",
    "reversed_sentence = \" \".join(words[::-1])\n",
    "print(\"Reversed sentence:\", reversed_sentence)"
   ]
  },
  {
   "cell_type": "code",
   "execution_count": 21,
   "id": "f2399282-df5b-42c5-b9c0-190b442f07d8",
   "metadata": {},
   "outputs": [
    {
     "name": "stdin",
     "output_type": "stream",
     "text": [
      "Enter a string:  I m Python Lover\n"
     ]
    },
    {
     "name": "stdout",
     "output_type": "stream",
     "text": [
      "Lowercase string: i m python lover\n"
     ]
    }
   ],
   "source": [
    "#Convert a string to lowercase\n",
    "string = input(\"Enter a string: \")\n",
    "lowercase_string = string.lower()\n",
    "print(\"Lowercase string:\", lowercase_string)"
   ]
  },
  {
   "cell_type": "markdown",
   "id": "ad3b96de-b671-438b-afd4-cd0f38e9be2e",
   "metadata": {},
   "source": [
    "List"
   ]
  },
  {
   "cell_type": "markdown",
   "id": "091116d8-7595-45ad-8ed9-72604a0d8d34",
   "metadata": {},
   "source": [
    "#Find the largest and smallest elements in a list\n",
    "numbers = [int(x) for x in input(\"Enter numbers separated by space: \").split()]\n",
    "largest = max(numbers)\n",
    "smallest = min(numbers)\n",
    "print(\"Largest element:\", largest)\n",
    "print(\"Smallest element:\", smallest)"
   ]
  },
  {
   "cell_type": "code",
   "execution_count": 29,
   "id": "3705f400-6efb-4698-b9bc-e3fa1f078122",
   "metadata": {},
   "outputs": [
    {
     "name": "stdin",
     "output_type": "stream",
     "text": [
      "Enter numbers separated by space:  10 -5\n"
     ]
    },
    {
     "name": "stdout",
     "output_type": "stream",
     "text": [
      "List with negative numbers removed: [10]\n"
     ]
    }
   ],
   "source": [
    "\n",
    "#Remove negative numbers from a list\n",
    "numbers = [int(x) for x in input(\"Enter numbers separated by space: \").split()]\n",
    "positive_numbers = [num for num in numbers if num >= 0]\n",
    "print(\"List with negative numbers removed:\", positive_numbers)"
   ]
  },
  {
   "cell_type": "code",
   "execution_count": 30,
   "id": "e8d04697-5078-4bcc-af14-950ee43f3293",
   "metadata": {},
   "outputs": [
    {
     "name": "stdin",
     "output_type": "stream",
     "text": [
      "Enter numbers separated by space:  10 20 40\n"
     ]
    },
    {
     "name": "stdout",
     "output_type": "stream",
     "text": [
      "Sorted list: [10, 20, 40]\n"
     ]
    }
   ],
   "source": [
    "#Sort a list of integers in ascending order\n",
    "numbers = [int(x) for x in input(\"Enter numbers separated by space: \").split()]\n",
    "numbers.sort()\n",
    "print(\"Sorted list:\", numbers)"
   ]
  },
  {
   "cell_type": "code",
   "execution_count": 32,
   "id": "c0e80d7a-0d9c-475d-8ef0-0337c53618c1",
   "metadata": {},
   "outputs": [
    {
     "name": "stdin",
     "output_type": "stream",
     "text": [
      "Enter numbers for first list separated by space:  4 \n",
      "Enter numbers for second list separated by space:  6\n"
     ]
    },
    {
     "name": "stdout",
     "output_type": "stream",
     "text": [
      "Common elements found: False\n"
     ]
    }
   ],
   "source": [
    "#Check if two lists have at least one common element\n",
    "list1 = [int(x) for x in input(\"Enter numbers for first list separated by space: \").split()]\n",
    "list2 = [int(x) for x in input(\"Enter numbers for second list separated by space: \").split()]\n",
    "common_elements = any(elem in list1 for elem in list2)\n",
    "print(\"Common elements found:\", common_elements)"
   ]
  },
  {
   "cell_type": "markdown",
   "id": "1000ad12-e821-45b2-98db-89d0e45cb8d5",
   "metadata": {},
   "source": [
    "Dictionary"
   ]
  },
  {
   "cell_type": "code",
   "execution_count": 34,
   "id": "904dfc27-647c-4753-9950-8f8818ac5e39",
   "metadata": {},
   "outputs": [
    {
     "name": "stdout",
     "output_type": "stream",
     "text": [
      "Keys: dict_keys(['key1', 'key2', 'key3'])\n"
     ]
    }
   ],
   "source": [
    "#Print all keys of a dictionary\n",
    "my_dict = {\"key1\": 1, \"key2\": 2, \"key3\": 3}\n",
    "print(\"Keys:\", my_dict.keys())"
   ]
  },
  {
   "cell_type": "code",
   "execution_count": 35,
   "id": "857786e8-2e70-4319-b12a-8d8d620eb428",
   "metadata": {},
   "outputs": [
    {
     "name": "stdin",
     "output_type": "stream",
     "text": [
      "Enter key to check:  1\n"
     ]
    },
    {
     "name": "stdout",
     "output_type": "stream",
     "text": [
      "Key does not exist\n"
     ]
    }
   ],
   "source": [
    "#Check if a given key exists in a dictionary\n",
    "my_dict = {\"key1\": 1, \"key2\": 2, \"key3\": 3}\n",
    "key_to_check = input(\"Enter key to check: \")\n",
    "if key_to_check in my_dict:\n",
    "    print(\"Key exists\")\n",
    "else:\n",
    "    print(\"Key does not exist\")"
   ]
  },
  {
   "cell_type": "code",
   "execution_count": 36,
   "id": "35a6874c-b142-4683-b4a3-0ebeff96475d",
   "metadata": {},
   "outputs": [
    {
     "name": "stdout",
     "output_type": "stream",
     "text": [
      "Merged dictionary: {'a': 1, 'b': 2, 'c': 3, 'd': 4}\n"
     ]
    }
   ],
   "source": [
    "#Merge two dictionaries\n",
    "dict1 = {\"a\": 1, \"b\": 2}\n",
    "dict2 = {\"c\": 3, \"d\": 4}\n",
    "merged_dict = {**dict1, **dict2}\n",
    "print(\"Merged dictionary:\", merged_dict)"
   ]
  },
  {
   "cell_type": "code",
   "execution_count": 37,
   "id": "c54b14d9-4318-4a05-abdb-2cd1ae682a37",
   "metadata": {},
   "outputs": [
    {
     "name": "stdout",
     "output_type": "stream",
     "text": [
      "Sorted dictionary: {'a': 1, 'b': 2, 'c': 3, 'd': 4}\n"
     ]
    }
   ],
   "source": [
    "#Print dictionary in sorted order based on keys\n",
    "my_dict = {\"b\": 2, \"a\": 1, \"d\": 4, \"c\": 3}\n",
    "sorted_dict = dict(sorted(my_dict.items()))\n",
    "print(\"Sorted dictionary:\", sorted_dict)"
   ]
  },
  {
   "cell_type": "code",
   "execution_count": 1,
   "id": "dd73ab6b-6033-477a-922c-7d4c865e3650",
   "metadata": {},
   "outputs": [
    {
     "name": "stdout",
     "output_type": "stream",
     "text": [
      "Welcome! Today's date and time is: 2024-05-13 21:26:53.347533\n"
     ]
    }
   ],
   "source": [
    "# Write a Python script that prints a welcome message along with the current date and time.\n",
    "# Print a welcome message with the current date and time\n",
    "import datetime\n",
    "print(\"Welcome! Today's date and time is:\", datetime.datetime.now())"
   ]
  },
  {
   "cell_type": "code",
   "execution_count": 2,
   "id": "a11ea370-8f51-4b2e-be96-4db29c0d2b13",
   "metadata": {},
   "outputs": [
    {
     "name": "stdout",
     "output_type": "stream",
     "text": [
      "1\n",
      "2\n",
      "3\n",
      "4\n",
      "5\n",
      "6\n",
      "7\n",
      "8\n",
      "9\n",
      "10\n",
      "11\n",
      "12\n",
      "13\n",
      "14\n",
      "15\n",
      "16\n",
      "17\n",
      "18\n",
      "19\n",
      "20\n",
      "21\n",
      "22\n",
      "23\n",
      "24\n",
      "25\n",
      "26\n",
      "27\n",
      "28\n",
      "29\n",
      "30\n"
     ]
    }
   ],
   "source": [
    "# Print a series of numbers from 1 to 10, each on a new line.\n",
    "# Print numbers from 1 to 30\n",
    "for i in range(1, 31):\n",
    "    print(i)"
   ]
  },
  {
   "cell_type": "code",
   "execution_count": 9,
   "id": "e986896a-797d-4d92-a19e-5900da15769e",
   "metadata": {},
   "outputs": [
    {
     "name": "stdout",
     "output_type": "stream",
     "text": [
      "True\n"
     ]
    }
   ],
   "source": [
    "# Create variables to store the following information: name (string), age (integer), height (float), and is_student (boolean).\n",
    "# Creating variables of different data types\n",
    "name = \"Nitin\"\n",
    "age = 20\n",
    "height = 5.11\n",
    "is_student = True\n",
    "print(is_student)"
   ]
  },
  {
   "cell_type": "code",
   "execution_count": 12,
   "id": "0c4c1a53-b2f7-4aa4-903d-4c55e0cbfa02",
   "metadata": {},
   "outputs": [
    {
     "name": "stdout",
     "output_type": "stream",
     "text": [
      "20.0\n"
     ]
    }
   ],
   "source": [
    "# Convert a string variable containing a numerical value to an integer or float data type.\n",
    "# Converting string variable to integer or float\n",
    "str_num = \"20\"\n",
    "int_num = int(str_num)\n",
    "float_num = float(str_num)\n",
    "print (float_num)"
   ]
  },
  {
   "cell_type": "code",
   "execution_count": 14,
   "id": "2a5347d1-cc36-4aae-93bd-ba12821b1c4a",
   "metadata": {},
   "outputs": [
    {
     "name": "stdout",
     "output_type": "stream",
     "text": [
      "223\n"
     ]
    }
   ],
   "source": [
    "# Convert an integer variable to a string data type.\n",
    "# Converting integer variable to string\n",
    "int_value = 223\n",
    "str_value = str(int_value)\n",
    "print (str_value)"
   ]
  },
  {
   "cell_type": "code",
   "execution_count": 16,
   "id": "b81587b2-d51b-4980-bdc6-ac61bba1f9d8",
   "metadata": {},
   "outputs": [
    {
     "name": "stdout",
     "output_type": "stream",
     "text": [
      "5.0 24\n"
     ]
    }
   ],
   "source": [
    "# Perform arithmetic operations (addition, subtraction, multiplication, division) on numerical variables.\n",
    "import math\n",
    "\n",
    "# Arithmetic operations\n",
    "result_add = 5 + 3\n",
    "result_sub = 7 - 2\n",
    "result_mul = 4 * 6\n",
    "result_div = 10 / 2\n",
    "print(result_div, result_mul)"
   ]
  },
  {
   "cell_type": "code",
   "execution_count": 18,
   "id": "23de6bc4-b196-465e-9b46-b10038dfc7bc",
   "metadata": {},
   "outputs": [
    {
     "name": "stdout",
     "output_type": "stream",
     "text": [
      "22.9128784747792\n"
     ]
    }
   ],
   "source": [
    "# Calculate the square root of a number.\n",
    "# Square root\n",
    "sqrt_value = math.sqrt(525)\n",
    "print(sqrt_value)"
   ]
  },
  {
   "cell_type": "code",
   "execution_count": 19,
   "id": "8b0c9b15-495a-4891-8e4b-8ff0ffeae45f",
   "metadata": {},
   "outputs": [
    {
     "name": "stdout",
     "output_type": "stream",
     "text": [
      "Natural logarithm of 10 : 2.302585092994046\n",
      "Logarithm base 10 of 10 : 1.0\n",
      "Logarithm base 2 of 10 : 3.321928094887362\n",
      "Sine of 30 degrees: 0.7071067811865476\n",
      "Cosine of 30 degrees: 0.7071067811865476\n",
      "Tangent of 60 degrees: 0.9999999999999999\n"
     ]
    }
   ],
   "source": [
    "# Use the math module to perform more advanced mathematical operations like calculating logarithms or trigonometric functions.\n",
    "import math\n",
    "\n",
    "# Calculate the natural logarithm (base e) of a number\n",
    "x = 10\n",
    "log_value = math.log(x)\n",
    "print(\"Natural logarithm of\", x, \":\", log_value)\n",
    "\n",
    "# Calculate the logarithm of a number with a specified base (e.g., base 10)\n",
    "log_base_10 = math.log10(x)\n",
    "print(\"Logarithm base 10 of\", x, \":\", log_base_10)\n",
    "\n",
    "# Calculate the logarithm of a number with a specified base (e.g., base 2)\n",
    "log_base_2 = math.log2(x)\n",
    "print(\"Logarithm base 2 of\", x, \":\", log_base_2)\n",
    "\n",
    "# Calculate trigonometric functions (sine, cosine, tangent) in radians\n",
    "angle_radians = math.radians(45)  # Convert angle from degrees to radians\n",
    "sin_value = math.sin(angle_radians)\n",
    "cos_value = math.cos(angle_radians)\n",
    "tan_value = math.tan(angle_radians)\n",
    "print(\"Sine of 30 degrees:\", sin_value)\n",
    "print(\"Cosine of 30 degrees:\", cos_value)\n",
    "print(\"Tangent of 60 degrees:\", tan_value)\n"
   ]
  },
  {
   "cell_type": "code",
   "execution_count": 20,
   "id": "0f28ba2a-7eb5-4fdc-844c-a77b65ce2c87",
   "metadata": {},
   "outputs": [
    {
     "name": "stdout",
     "output_type": "stream",
     "text": [
      "Hello, world!\n"
     ]
    }
   ],
   "source": [
    "# Concatenate two strings to form a new string.\n",
    "# Concatenation\n",
    "message = \"Hello, \" + \"world!\"\n",
    "print(message)"
   ]
  },
  {
   "cell_type": "code",
   "execution_count": 21,
   "id": "f76dde7b-506e-4c70-b2be-7db9573061fe",
   "metadata": {},
   "outputs": [
    {
     "name": "stdout",
     "output_type": "stream",
     "text": [
      "is\n"
     ]
    }
   ],
   "source": [
    "# Extract a substring from a given string.\n",
    "# Extract substring\n",
    "sentence = \"This is a sentence.\"\n",
    "substring = sentence[5:7]  # Extracts \"is\"\n",
    "print(substring)"
   ]
  },
  {
   "cell_type": "code",
   "execution_count": 22,
   "id": "fa878cf1-c52a-408e-8573-b77f363b8ae6",
   "metadata": {},
   "outputs": [
    {
     "name": "stdout",
     "output_type": "stream",
     "text": [
      "HELLO\n",
      "world\n"
     ]
    }
   ],
   "source": [
    "# Convert a string to uppercase or lowercase.\n",
    "# Convert to uppercase or lowercase\n",
    "uppercase_str = \"hello\".upper()\n",
    "lowercase_str = \"WORLD\".lower()\n",
    "print(uppercase_str)\n",
    "print(lowercase_str)"
   ]
  },
  {
   "cell_type": "code",
   "execution_count": 23,
   "id": "c4c5fb02-7d39-4118-8a1d-08d2ca88b63e",
   "metadata": {},
   "outputs": [
    {
     "name": "stdout",
     "output_type": "stream",
     "text": [
      "List of Numbers: [20, 35, 10, 88, 98, 43, 56, 48, 90]\n",
      "Sorted List: [10, 20, 35, 43, 48, 56, 88, 90, 98]\n",
      "Sum of Numbers: 488\n",
      "Mean of Numbers: 54.22222222222222\n",
      "Median of Numbers: 48\n"
     ]
    }
   ],
   "source": [
    "# Create a list of numbers and calculate the sum, mean, and median of the elements.\n",
    "# Create a list of numbers\n",
    "numbers = [20, 35, 10, 88, 98, 43, 56, 48, 90]\n",
    "\n",
    "# Calculate the sum of the elements\n",
    "sum_of_numbers = sum(numbers)\n",
    "\n",
    "# Calculate the mean (average) of the elements\n",
    "mean_of_numbers = sum_of_numbers / len(numbers)\n",
    "\n",
    "# Calculate the median of the elements\n",
    "sorted_numbers = sorted(numbers)\n",
    "n = len(numbers)\n",
    "if n % 2 == 0:\n",
    "    median_index = n // 2\n",
    "    median = (sorted_numbers[median_index - 1] + sorted_numbers[median_index]) / 2\n",
    "else:\n",
    "    median_index = n // 2\n",
    "    median = sorted_numbers[median_index]\n",
    "\n",
    "print(\"List of Numbers:\", numbers)\n",
    "print(\"Sorted List:\", sorted_numbers)\n",
    "print(\"Sum of Numbers:\", sum_of_numbers)\n",
    "print(\"Mean of Numbers:\", mean_of_numbers)\n",
    "print(\"Median of Numbers:\", median)"
   ]
  },
  {
   "cell_type": "code",
   "execution_count": 25,
   "id": "1898c0e2-598a-4df0-ad81-35b30cc0e852",
   "metadata": {},
   "outputs": [
    {
     "name": "stdout",
     "output_type": "stream",
     "text": [
      "Sum: 311\n",
      "Mean: 44.42857142857143\n",
      "Sorted List: [15, 30, 40, 45, 50, 59, 72]\n",
      "Median: 45\n"
     ]
    }
   ],
   "source": [
    "# List of numbers\n",
    "numbers = [15, 50, 40, 45, 59, 72,30]\n",
    "\n",
    "# Calculate sum, mean, and median\n",
    "sum_nums = sum(numbers)\n",
    "mean_nums = sum_nums / len(numbers)\n",
    "sorted_nums = sorted(numbers)\n",
    "median_nums = sorted_nums[len(numbers)//2]\n",
    "print(\"Sum:\", sum_nums)\n",
    "print(\"Mean:\", mean_nums)\n",
    "print(\"Sorted List:\", sorted_nums)\n",
    "print(\"Median:\", median_nums)"
   ]
  },
  {
   "cell_type": "code",
   "execution_count": 27,
   "id": "fbc94b40-07bf-478d-8202-3147a128427a",
   "metadata": {},
   "outputs": [
    {
     "name": "stdout",
     "output_type": "stream",
     "text": [
      "Sum: 661\n",
      "Mean: 60.09090909090909\n",
      "Sorted List: [15, 30, 40, 45, 50, 59, 72, 75, 75, 100, 100]\n",
      "Median: 59\n"
     ]
    }
   ],
   "source": [
    "# Append new elements to a list.\n",
    "numbers.append(100)\n",
    "numbers.append(75)\n",
    "sum_nums = sum(numbers)\n",
    "mean_nums = sum_nums / len(numbers)\n",
    "sorted_nums = sorted(numbers)\n",
    "median_nums = sorted_nums[len(numbers)//2]\n",
    "print(\"Sum:\", sum_nums)\n",
    "print(\"Mean:\", mean_nums)\n",
    "print(\"Sorted List:\", sorted_nums)\n",
    "print(\"Median:\", median_nums)\n",
    "\n"
   ]
  },
  {
   "cell_type": "code",
   "execution_count": 28,
   "id": "0fe0a884-b219-4034-a53a-9333ac24bf0f",
   "metadata": {},
   "outputs": [
    {
     "name": "stdout",
     "output_type": "stream",
     "text": [
      "Sum: 486\n",
      "Mean: 54.0\n",
      "Sorted List: [15, 30, 40, 45, 50, 59, 72, 75, 100]\n",
      "Median: 50\n"
     ]
    }
   ],
   "source": [
    "# Remove duplicate elements from a list.\n",
    "unique_numbers = []\n",
    "for num in numbers:\n",
    "    if num not in unique_numbers:\n",
    "        unique_numbers.append(num)\n",
    "\n",
    "\n",
    "sum_nums = sum(unique_numbers)\n",
    "mean_nums = sum_nums / len(unique_numbers)\n",
    "sorted_nums = sorted(unique_numbers)\n",
    "median_index = len(unique_numbers) // 2\n",
    "median_nums = sorted_nums[median_index]\n",
    "print(\"Sum:\", sum_nums)\n",
    "print(\"Mean:\", mean_nums)\n",
    "print(\"Sorted List:\", sorted_nums)\n",
    "print(\"Median:\", median_nums)"
   ]
  },
  {
   "cell_type": "code",
   "execution_count": 29,
   "id": "b7c4da71-e828-4775-aad3-6e61c062c572",
   "metadata": {},
   "outputs": [
    {
     "name": "stdout",
     "output_type": "stream",
     "text": [
      "{'name': 'Raju', 'age': 22, 'gender': 'Male'}\n"
     ]
    }
   ],
   "source": [
    "# Create a dictionary representing a person with keys like \"name\", \"age\", and \"gender\".\n",
    "# Dictionary representing a person\n",
    "person = {\"name\": \"Raju\", \"age\": 22, \"gender\": \"Male\"}\n",
    "print(person)"
   ]
  },
  {
   "cell_type": "code",
   "execution_count": 30,
   "id": "3573c52b-684f-418b-8975-88b799cca938",
   "metadata": {},
   "outputs": [
    {
     "name": "stdout",
     "output_type": "stream",
     "text": [
      "{'name': 'Raju', 'age': 20, 'gender': 'Male'}\n"
     ]
    }
   ],
   "source": [
    "# Access and modify values in the dictionary.\n",
    "# Access and modify values\n",
    "person[\"age\"] = 20\n",
    "print(person)"
   ]
  },
  {
   "cell_type": "code",
   "execution_count": 31,
   "id": "0440bdf4-41b8-449a-8fa2-6422a7f4e466",
   "metadata": {},
   "outputs": [
    {
     "name": "stdout",
     "output_type": "stream",
     "text": [
      "name : Raju\n",
      "age : 20\n",
      "gender : Male\n"
     ]
    }
   ],
   "source": [
    "# Iterate over the key-value pairs in the dictionary and print them.\n",
    "# Iterate over key-value pairs\n",
    "for key, value in person.items():\n",
    "    print(key, \":\", value)"
   ]
  },
  {
   "cell_type": "code",
   "execution_count": 32,
   "id": "26fba7df-ea51-4603-8d81-9d685caf8e89",
   "metadata": {},
   "outputs": [
    {
     "name": "stdout",
     "output_type": "stream",
     "text": [
      "name : Raju\n",
      "age : 20\n",
      "gender : Male\n"
     ]
    }
   ],
   "source": [
    "# Write Python expressions using boolean operators (and, or, not).\n",
    "# Iterate over key-value pairs\n",
    "for key, value in person.items():\n",
    "    print(key, \":\", value)"
   ]
  },
  {
   "cell_type": "code",
   "execution_count": 33,
   "id": "d0902664-a0cb-4cda-bda5-0ffb54371d5f",
   "metadata": {},
   "outputs": [
    {
     "name": "stdout",
     "output_type": "stream",
     "text": [
      "Bring an umbrella!\n",
      "Count: 0\n",
      "Count: 1\n",
      "Count: 2\n",
      "Count: 3\n",
      "Count: 4\n",
      "y is greater than x\n"
     ]
    }
   ],
   "source": [
    "# Use boolean variables to control the flow of a program (e.g., in conditional statements or loops).\n",
    "# Define a boolean variable\n",
    "is_raining = True\n",
    "\n",
    "\n",
    "if is_raining:\n",
    "    print(\"Bring an umbrella!\")\n",
    "else:\n",
    "    print(\"No need for an umbrella.\")\n",
    "\n",
    "\n",
    "counter = 0\n",
    "while counter < 5:\n",
    "    print(\"Count:\", counter)\n",
    "    counter += 1\n",
    "\n",
    "\n",
    "x = 5\n",
    "y = 10\n",
    "is_greater = x > y\n",
    "if is_greater:\n",
    "    print(\"x is greater than y\")\n",
    "else:\n",
    "    print(\"y is greater than x\")\n"
   ]
  },
  {
   "cell_type": "code",
   "execution_count": 34,
   "id": "0a3130a0-d889-4864-974e-aaf4a2e3c6c8",
   "metadata": {},
   "outputs": [
    {
     "name": "stdout",
     "output_type": "stream",
     "text": [
      "('apple', 'banana', 'orange')\n"
     ]
    }
   ],
   "source": [
    "# Create a tuple containing the names of different fruits.\n",
    "# Tuple containing fruit names\n",
    "fruits = (\"apple\", \"banana\", \"orange\")\n",
    "print(fruits)\n"
   ]
  },
  {
   "cell_type": "code",
   "execution_count": 35,
   "id": "9ce30745-6bc4-4715-b14a-d5e7883c1b77",
   "metadata": {},
   "outputs": [
    {
     "name": "stdout",
     "output_type": "stream",
     "text": [
      "banana\n"
     ]
    }
   ],
   "source": [
    "# Access elements of a tuple using indexing.\n",
    "# Access elements using indexing\n",
    "first_fruit = fruits[1]\n",
    "print(first_fruit)"
   ]
  },
  {
   "cell_type": "code",
   "execution_count": 36,
   "id": "21cbf1d9-951d-490b-9879-9e9a52bb3896",
   "metadata": {},
   "outputs": [
    {
     "ename": "TypeError",
     "evalue": "'tuple' object does not support item assignment",
     "output_type": "error",
     "traceback": [
      "\u001b[1;31m---------------------------------------------------------------------------\u001b[0m",
      "\u001b[1;31mTypeError\u001b[0m                                 Traceback (most recent call last)",
      "Cell \u001b[1;32mIn[36], line 3\u001b[0m\n\u001b[0;32m      1\u001b[0m \u001b[38;5;66;03m# Try to modify an element of a tuple and observe the error message.\u001b[39;00m\n\u001b[0;32m      2\u001b[0m \u001b[38;5;66;03m# Attempt to modify an element (will raise TypeError)\u001b[39;00m\n\u001b[1;32m----> 3\u001b[0m fruits[\u001b[38;5;241m0\u001b[39m] \u001b[38;5;241m=\u001b[39m \u001b[38;5;124m\"\u001b[39m\u001b[38;5;124mgrape\u001b[39m\u001b[38;5;124m\"\u001b[39m\n\u001b[0;32m      4\u001b[0m \u001b[38;5;28mprint\u001b[39m(fruits)\n",
      "\u001b[1;31mTypeError\u001b[0m: 'tuple' object does not support item assignment"
     ]
    }
   ],
   "source": [
    "# Try to modify an element of a tuple and observe the error message.\n",
    "# Attempt to modify an element (will raise TypeError)\n",
    "fruits[0] = \"grape\"\n",
    "print(fruits)"
   ]
  },
  {
   "cell_type": "code",
   "execution_count": 38,
   "id": "8139676c-2880-45af-901d-dc04ca805435",
   "metadata": {},
   "outputs": [
    {
     "name": "stdout",
     "output_type": "stream",
     "text": [
      "{1, 2, 3, 4, 5, 6, 7, 8, 9}\n",
      "{5}\n",
      "{1, 2, 3, 4}\n"
     ]
    }
   ],
   "source": [
    "# Create two sets of numbers and perform set operations like union, intersection, and difference.\n",
    "# Sets of numbers\n",
    "set1 = {1, 2, 3, 4, 5}\n",
    "set2 = {5, 6, 7, 8, 9}\n",
    "\n",
    "# Set operations\n",
    "union_set = set1.union(set2)\n",
    "intersection_set = set1.intersection(set2)\n",
    "difference_set = set1.difference(set2)\n",
    "print(union_set)\n",
    "print(intersection_set)\n",
    "print(difference_set)"
   ]
  },
  {
   "cell_type": "code",
   "execution_count": 39,
   "id": "ee93c484-9d4a-4363-9c55-ab3b70078146",
   "metadata": {},
   "outputs": [
    {
     "name": "stdout",
     "output_type": "stream",
     "text": [
      "The element 3 exists in the set.\n"
     ]
    }
   ],
   "source": [
    "# Check if a given element exists in a set.\n",
    "# Define a set\n",
    "my_set = {1, 2, 3, 4, 5}\n",
    "\n",
    "# Element to check\n",
    "element = 3\n",
    "\n",
    "# Check if the element exists in the set\n",
    "if element in my_set:\n",
    "    print(f\"The element {element} exists in the set.\")\n",
    "else:\n",
    "    print(f\"The element {element} does not exist in the set.\")\n"
   ]
  },
  {
   "cell_type": "code",
   "execution_count": 41,
   "id": "e69efba6-2eef-4847-a0ca-9dff21babb0d",
   "metadata": {},
   "outputs": [
    {
     "name": "stdout",
     "output_type": "stream",
     "text": [
      "Original List: [1, 2, 3, 4, 5, 1, 2, 3, 4, 5]\n",
      "List after removing duplicates: [1, 2, 3, 4, 5]\n"
     ]
    }
   ],
   "source": [
    "# Convert a list to a set to remove duplicate elements.\n",
    "# Define a list with duplicate elements\n",
    "my_list = [1,2,3,4,5,1,2,3,4,5]\n",
    "\n",
    "# Convert the list to a set to remove duplicates\n",
    "unique_set = set(my_list)\n",
    "\n",
    "# Convert the set back to a list if needed\n",
    "unique_list = list(unique_set)\n",
    "\n",
    "print(\"Original List:\", my_list)\n",
    "print(\"List after removing duplicates:\", unique_list)\n"
   ]
  },
  {
   "cell_type": "code",
   "execution_count": 42,
   "id": "5e0f269c-9d55-4387-a8e2-5022a30b5d48",
   "metadata": {},
   "outputs": [
    {
     "name": "stdout",
     "output_type": "stream",
     "text": [
      "True\n",
      "False\n",
      "True\n"
     ]
    }
   ],
   "source": [
    "# Write Python expressions using comparison operators (>, <, ==, !=, >=, <=).\n",
    "# Comparison operators\n",
    "greater_than = 5 > 3\n",
    "equal_to = \"hello\" == \"world\"\n",
    "not_equal = 10 != 5\n",
    "print(greater_than)\n",
    "print(equal_to)\n",
    "print(not_equal)"
   ]
  },
  {
   "cell_type": "code",
   "execution_count": 43,
   "id": "4993f3d4-dce0-4b2b-80ed-9b2db8d9d94e",
   "metadata": {},
   "outputs": [
    {
     "name": "stdin",
     "output_type": "stream",
     "text": [
      "Enter your age:  20\n"
     ]
    },
    {
     "name": "stdout",
     "output_type": "stream",
     "text": [
      "You are an adult.\n"
     ]
    }
   ],
   "source": [
    "# Write a Python script that asks the user to input their age and prints different messages based on whether they are a child, teenager, adult, or senior citizen.\n",
    "# If-elif-else statements\n",
    "age = int(input(\"Enter your age: \"))\n",
    "if age < 18:\n",
    "    print(\"You are a child.\")\n",
    "elif age < 65:\n",
    "    print(\"You are an adult.\")\n",
    "else:\n",
    "    print(\"You are a senior citizen.\")\n"
   ]
  },
  {
   "cell_type": "code",
   "execution_count": 45,
   "id": "29f77dc4-6c80-4dce-9d2c-1c069d04db51",
   "metadata": {},
   "outputs": [
    {
     "name": "stdout",
     "output_type": "stream",
     "text": [
      "1\n",
      "4\n",
      "9\n",
      "16\n",
      "25\n",
      "36\n",
      "49\n",
      "64\n",
      "81\n",
      "100\n",
      "121\n",
      "144\n",
      "169\n",
      "196\n",
      "225\n",
      "256\n",
      "289\n",
      "324\n",
      "361\n"
     ]
    }
   ],
   "source": [
    "# For loop to print squares of numbers\n",
    "for i in range(1, 20):\n",
    "    print(i * i)\n"
   ]
  },
  {
   "cell_type": "code",
   "execution_count": 46,
   "id": "483031bb-1be8-4e89-bf09-e7b7d221dfd1",
   "metadata": {},
   "outputs": [
    {
     "name": "stdout",
     "output_type": "stream",
     "text": [
      "5\n",
      "6\n",
      "6\n"
     ]
    }
   ],
   "source": [
    "# Iterate over a list of strings and print the length of each string.\n",
    "# For loop to print length of strings\n",
    "strings = [\"apple\", \"banana\", \"orange\"]\n",
    "for s in strings:\n",
    "    print(len(s))\n"
   ]
  },
  {
   "cell_type": "code",
   "execution_count": 47,
   "id": "82297650-a7a7-466d-b0fa-1f1d2f249449",
   "metadata": {},
   "outputs": [
    {
     "name": "stdin",
     "output_type": "stream",
     "text": [
      "Guess the number (1-30):  2\n",
      "Guess the number (1-30):  5\n",
      "Guess the number (1-30):  23\n",
      "Guess the number (1-30):  23\n",
      "Guess the number (1-30):  1\n",
      "Guess the number (1-30):  2\n",
      "Guess the number (1-30):  3\n",
      "Guess the number (1-30):  4\n",
      "Guess the number (1-30):  5\n",
      "Guess the number (1-30):  6\n",
      "Guess the number (1-30):  7\n",
      "Guess the number (1-30):  8\n",
      "Guess the number (1-30):  9\n",
      "Guess the number (1-30):  10\n",
      "Guess the number (1-30):  11\n",
      "Guess the number (1-30):  12\n",
      "Guess the number (1-30):  14\n",
      "Guess the number (1-30):  15\n",
      "Guess the number (1-30):  16\n"
     ]
    },
    {
     "name": "stdout",
     "output_type": "stream",
     "text": [
      "Congratulations! You guessed it correctly.\n"
     ]
    }
   ],
   "source": [
    "\n",
    "# Write a Python script that repeatedly asks the user to guess a number until they guess it correctly.\n",
    "import random\n",
    "\n",
    "target = random.randint(1, 30)\n",
    "guess = 23\n",
    "while guess != target:\n",
    "    guess = int(input(\"Guess the number (1-30): \"))\n",
    "print(\"Congratulations! You guessed it correctly.\")"
   ]
  },
  {
   "cell_type": "code",
   "execution_count": 48,
   "id": "f5efc83c-27d1-494b-9b9d-ac153a3b57e8",
   "metadata": {},
   "outputs": [
    {
     "name": "stdin",
     "output_type": "stream",
     "text": [
      "Guess the number (1-10):  1\n"
     ]
    },
    {
     "name": "stdout",
     "output_type": "stream",
     "text": [
      "Congratulations! You guessed it correctly.\n"
     ]
    }
   ],
   "source": [
    "# Use a while loop to calculate the factorial of a given number.\n",
    "# While loop to repeatedly guess a number\n",
    "import random\n",
    "\n",
    "target = random.randint(1, 10)\n",
    "guess = 5\n",
    "while guess != target:\n",
    "    guess = int(input(\"Guess the number (1-10): \"))\n",
    "print(\"Congratulations! You guessed it correctly.\")"
   ]
  },
  {
   "cell_type": "code",
   "execution_count": 49,
   "id": "5c92e7fd-867a-4a6a-99a0-5dfa660e7fc6",
   "metadata": {},
   "outputs": [
    {
     "name": "stdin",
     "output_type": "stream",
     "text": [
      "Enter a number:  4\n"
     ]
    },
    {
     "name": "stdout",
     "output_type": "stream",
     "text": [
      "Factorial: 96\n"
     ]
    }
   ],
   "source": [
    "# While loop to calculate factorial\n",
    "num = int(input(\"Enter a number: \"))\n",
    "factorial = 4\n",
    "while num > 0:\n",
    "    factorial *= num\n",
    "    num -= 1\n",
    "print(\"Factorial:\", factorial)"
   ]
  },
  {
   "cell_type": "code",
   "execution_count": null,
   "id": "7a7adc4c-da3c-4e56-8770-58a8202c1737",
   "metadata": {},
   "outputs": [],
   "source": []
  }
 ],
 "metadata": {
  "kernelspec": {
   "display_name": "Python 3 (ipykernel)",
   "language": "python",
   "name": "python3"
  },
  "language_info": {
   "codemirror_mode": {
    "name": "ipython",
    "version": 3
   },
   "file_extension": ".py",
   "mimetype": "text/x-python",
   "name": "python",
   "nbconvert_exporter": "python",
   "pygments_lexer": "ipython3",
   "version": "3.11.7"
  }
 },
 "nbformat": 4,
 "nbformat_minor": 5
}
